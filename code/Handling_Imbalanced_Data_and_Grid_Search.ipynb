{
 "cells": [
  {
   "cell_type": "code",
   "execution_count": 43,
   "metadata": {},
   "outputs": [],
   "source": [
    "__author__ = ['xiaodan']"
   ]
  },
  {
   "cell_type": "markdown",
   "metadata": {},
   "source": [
    "## Contents\n",
    "\n",
    "#### 0. Data Wrangling\n",
    "* 0.1 functions for text preprocessing\n",
    "* 0.2 functions for models\n",
    "\n",
    "#### 1. Handling Imbalance Data \n",
    "* 1.1 balanced ensemble method (balanced random forest)\n",
    "* 2.2 weighted ensemble method (weighted random forest)\n",
    "\n",
    "#### 2. Grid Search\n",
    "* 2.1 grid search for text preprocessing (bow & tfidf)\n",
    "* 2.2 grid search for machine learning models\n",
    "* 2.3 grid search for imbalance data model"
   ]
  },
  {
   "cell_type": "code",
   "execution_count": 5,
   "metadata": {},
   "outputs": [],
   "source": [
    "import os\n",
    "import numpy as np\n",
    "import pandas as pd\n",
    "import matplotlib.pyplot as plt\n",
    "import warnings\n",
    "import re\n",
    "import string\n",
    "\n",
    "from sklearn.model_selection import train_test_split\n",
    "from sklearn import metrics\n",
    "\n",
    "from sklearn.feature_extraction.text import CountVectorizer\n",
    "from sklearn.feature_extraction.text import TfidfVectorizer\n",
    "\n",
    "from nltk import word_tokenize\n",
    "from nltk.corpus import stopwords\n",
    "from nltk.stem.wordnet import WordNetLemmatizer\n",
    "from nltk.stem.porter import PorterStemmer\n",
    "\n",
    "from sklearn.naive_bayes import MultinomialNB\n",
    "from sklearn.svm import SVC\n",
    "from sklearn.linear_model import LogisticRegression\n",
    "\n",
    "warnings.filterwarnings('ignore')\n",
    "plt.style.use('ggplot')\n",
    "%matplotlib inline"
   ]
  },
  {
   "cell_type": "code",
   "execution_count": 7,
   "metadata": {},
   "outputs": [],
   "source": [
    "#nltk.download('punkt')\n",
    "#nltk.download('stopwords')"
   ]
  },
  {
   "cell_type": "markdown",
   "metadata": {},
   "source": [
    "## 0. Data Wrangling"
   ]
  },
  {
   "cell_type": "markdown",
   "metadata": {},
   "source": [
    "### 0.1 functions for text preprocessing"
   ]
  },
  {
   "cell_type": "code",
   "execution_count": 14,
   "metadata": {},
   "outputs": [],
   "source": [
    "def get_data(path):\n",
    "    '''\n",
    "    get data\n",
    "    :return: data and its labels\n",
    "    '''\n",
    "    data = pd.read_csv(path,index_col=0)\n",
    "    return data\n",
    "\n",
    "\n",
    "def split_data(corpus, labels, test_data_proportion=0.3):\n",
    "    '''\n",
    "    :param corpus: data\n",
    "    :param labels: labels\n",
    "    :param test_data_proportion:proportion \n",
    "    '''\n",
    "    train_X, test_X, train_Y, test_Y = train_test_split(corpus, labels,\n",
    "                                                        test_size=test_data_proportion, \n",
    "                                                        random_state=42)\n",
    "    return train_X, test_X, train_Y, test_Y\n",
    "\n",
    "def tokenize_text(text):\n",
    "    tokens = word_tokenize(text)\n",
    "    tokens = [token.strip() for token in tokens]\n",
    "    return tokens\n",
    "\n",
    "def remove_stopwords(text):\n",
    "    stop = list(set(stopwords.words('english')))\n",
    "    tokens = tokenize_text(text)\n",
    "    filtered_tokens = [token for token in tokens if token not in stop]\n",
    "    filtered_text = ' '.join(filtered_tokens)\n",
    "    return filtered_text\n",
    "\n",
    "def remove_special_characters(text):\n",
    "    tokens = tokenize_text(text)\n",
    "    pattern = re.compile('[{}]'.format(re.escape(string.punctuation)))\n",
    "    filtered_tokens = filter(None, [pattern.sub('', token) for token in tokens])\n",
    "    filtered_text = ' '.join(filtered_tokens)\n",
    "    return filtered_text\n",
    "\n",
    "def text_preprocessing(corpus):\n",
    "    normalized_corpus = []\n",
    "    for text in corpus:\n",
    "        text = remove_special_characters(text)\n",
    "        text = remove_stopwords(text)\n",
    "        normalized_corpus.append(text)\n",
    "    return normalized_corpus\n",
    "\n",
    "\n",
    "def bow_model(corpus, ngram_range=(1, 1),min_df=0.1,max_df=0.9,max_features=5000):\n",
    "    vectorizer = CountVectorizer(min_df=min_df,\n",
    "                                 max_df=max_df,\n",
    "                                 stop_words='english',\n",
    "                                 ngram_range=ngram_range,\n",
    "                                 max_features = max_features)\n",
    "    features = vectorizer.fit_transform(corpus)\n",
    "    return vectorizer, features\n",
    "\n",
    "\n",
    "def tfidf_transformer(bow_matrix):\n",
    "    transformer = TfidfTransformer(norm='l2',\n",
    "                                   smooth_idf=True,\n",
    "                                   use_idf=True)\n",
    "    tfidf_matrix = transformer.fit_transform(bow_matrix)\n",
    "    return transformer, tfidf_matrix\n",
    "\n",
    "\n",
    "def tfidf_model(corpus, ngram_range=(1, 1),min_df=0.1,max_df=0.9,max_features=5000):\n",
    "    vectorizer = TfidfVectorizer(min_df=min_df,\n",
    "                                 max_df=max_df,\n",
    "                                 stop_words='english',\n",
    "                                 ngram_range=ngram_range,\n",
    "                                 max_features = max_features)\n",
    "    features = vectorizer.fit_transform(corpus)\n",
    "    return vectorizer, features"
   ]
  },
  {
   "cell_type": "markdown",
   "metadata": {},
   "source": [
    "### 0.2 functions for models"
   ]
  },
  {
   "cell_type": "code",
   "execution_count": 15,
   "metadata": {},
   "outputs": [],
   "source": [
    "def train_predict_evaluate_model(classifier,\n",
    "                                 train_features, train_labels,\n",
    "                                 test_features, test_labels):\n",
    "          \n",
    "    # build model\n",
    "    classifier.fit(train_features, train_labels)\n",
    "    # predict using model\n",
    "    predictions = classifier.predict(test_features)\n",
    "    # evaluate model prediction performance\n",
    "    print(get_metrics(true_labels=test_labels,predicted_labels=predictions))\n",
    "    \n",
    "def get_metrics(true_labels, predicted_labels):\n",
    "    return metrics.classification_report(true_labels,predicted_labels)"
   ]
  },
  {
   "cell_type": "markdown",
   "metadata": {},
   "source": [
    "### 0.3 get data and the result for the random forest model without dealing with imbalance data"
   ]
  },
  {
   "cell_type": "code",
   "execution_count": 18,
   "metadata": {},
   "outputs": [],
   "source": [
    "data = get_data('/Users/xiaodanchen/Desktop/capstone/capstone_submit/data/cleaned_data/data.csv')"
   ]
  },
  {
   "cell_type": "code",
   "execution_count": 17,
   "metadata": {},
   "outputs": [],
   "source": [
    "# replace all '-1' class with '0'\n",
    "data2 = data.copy()\n",
    "data2['tagged'].replace({-1:0},inplace=True)"
   ]
  },
  {
   "cell_type": "code",
   "execution_count": 19,
   "metadata": {},
   "outputs": [
    {
     "data": {
      "text/html": [
       "<div>\n",
       "<style scoped>\n",
       "    .dataframe tbody tr th:only-of-type {\n",
       "        vertical-align: middle;\n",
       "    }\n",
       "\n",
       "    .dataframe tbody tr th {\n",
       "        vertical-align: top;\n",
       "    }\n",
       "\n",
       "    .dataframe thead th {\n",
       "        text-align: right;\n",
       "    }\n",
       "</style>\n",
       "<table border=\"1\" class=\"dataframe\">\n",
       "  <thead>\n",
       "    <tr style=\"text-align: right;\">\n",
       "      <th></th>\n",
       "      <th>support</th>\n",
       "      <th>text</th>\n",
       "      <th>volume_no</th>\n",
       "      <th>issue_no</th>\n",
       "      <th>page_range</th>\n",
       "      <th>person_id</th>\n",
       "      <th>full_name</th>\n",
       "      <th>party</th>\n",
       "      <th>chamber</th>\n",
       "      <th>title</th>\n",
       "      <th>tagged</th>\n",
       "    </tr>\n",
       "  </thead>\n",
       "  <tbody>\n",
       "    <tr>\n",
       "      <th>0</th>\n",
       "      <td>1</td>\n",
       "      <td>Mr. GRAYSON . Mr. Speaker, these statements an...</td>\n",
       "      <td>159</td>\n",
       "      <td>42</td>\n",
       "      <td>E357-E358</td>\n",
       "      <td>29284</td>\n",
       "      <td>Alan-nan-Grayson</td>\n",
       "      <td>D</td>\n",
       "      <td>H</td>\n",
       "      <td>Catching Up to 1968 Act of 2013</td>\n",
       "      <td>1</td>\n",
       "    </tr>\n",
       "    <tr>\n",
       "      <th>1</th>\n",
       "      <td>1</td>\n",
       "      <td>Ms. GABBARD . Mr. Speaker, I rise today in str...</td>\n",
       "      <td>159</td>\n",
       "      <td>42</td>\n",
       "      <td>E362</td>\n",
       "      <td>46246</td>\n",
       "      <td>Tulsi-nan-Gabbard</td>\n",
       "      <td>D</td>\n",
       "      <td>H</td>\n",
       "      <td>Helping Heroes Fly Act</td>\n",
       "      <td>1</td>\n",
       "    </tr>\n",
       "    <tr>\n",
       "      <th>2</th>\n",
       "      <td>1</td>\n",
       "      <td>Mr. FALEOMAVAEGA . Mr. Speaker, I want to shar...</td>\n",
       "      <td>159</td>\n",
       "      <td>42</td>\n",
       "      <td>E363-E364</td>\n",
       "      <td>19</td>\n",
       "      <td>Eni-F.H.-Faleomavaega</td>\n",
       "      <td>D</td>\n",
       "      <td>H</td>\n",
       "      <td>Non-Disparagement of Native American Persons o...</td>\n",
       "      <td>1</td>\n",
       "    </tr>\n",
       "    <tr>\n",
       "      <th>3</th>\n",
       "      <td>-1</td>\n",
       "      <td>Mr. COHEN . Mr. Speaker, I rise today to share...</td>\n",
       "      <td>159</td>\n",
       "      <td>39</td>\n",
       "      <td>H1559</td>\n",
       "      <td>1762</td>\n",
       "      <td>Steve-nan-Cohen</td>\n",
       "      <td>D</td>\n",
       "      <td>H</td>\n",
       "      <td>Northern Route Approval Act</td>\n",
       "      <td>1</td>\n",
       "    </tr>\n",
       "    <tr>\n",
       "      <th>4</th>\n",
       "      <td>1</td>\n",
       "      <td>Ms. JACKSON LEE . Mr. Speaker, in a few weeks,...</td>\n",
       "      <td>159</td>\n",
       "      <td>42</td>\n",
       "      <td>H1725</td>\n",
       "      <td>475</td>\n",
       "      <td>Sheila-nan-Jackson Lee</td>\n",
       "      <td>D</td>\n",
       "      <td>H</td>\n",
       "      <td>Child Gun Safety and Gun Access Prevention Act</td>\n",
       "      <td>1</td>\n",
       "    </tr>\n",
       "  </tbody>\n",
       "</table>\n",
       "</div>"
      ],
      "text/plain": [
       "   support                                               text  volume_no  \\\n",
       "0        1  Mr. GRAYSON . Mr. Speaker, these statements an...        159   \n",
       "1        1  Ms. GABBARD . Mr. Speaker, I rise today in str...        159   \n",
       "2        1  Mr. FALEOMAVAEGA . Mr. Speaker, I want to shar...        159   \n",
       "3       -1  Mr. COHEN . Mr. Speaker, I rise today to share...        159   \n",
       "4        1  Ms. JACKSON LEE . Mr. Speaker, in a few weeks,...        159   \n",
       "\n",
       "  issue_no page_range  person_id               full_name party chamber  \\\n",
       "0       42  E357-E358      29284        Alan-nan-Grayson     D       H   \n",
       "1       42       E362      46246       Tulsi-nan-Gabbard     D       H   \n",
       "2       42  E363-E364         19   Eni-F.H.-Faleomavaega     D       H   \n",
       "3       39      H1559       1762         Steve-nan-Cohen     D       H   \n",
       "4       42      H1725        475  Sheila-nan-Jackson Lee     D       H   \n",
       "\n",
       "                                               title  tagged  \n",
       "0                    Catching Up to 1968 Act of 2013       1  \n",
       "1                             Helping Heroes Fly Act       1  \n",
       "2  Non-Disparagement of Native American Persons o...       1  \n",
       "3                        Northern Route Approval Act       1  \n",
       "4     Child Gun Safety and Gun Access Prevention Act       1  "
      ]
     },
     "execution_count": 19,
     "metadata": {},
     "output_type": "execute_result"
    }
   ],
   "source": [
    "data2.head()"
   ]
  },
  {
   "cell_type": "code",
   "execution_count": 20,
   "metadata": {},
   "outputs": [
    {
     "data": {
      "image/png": "[encoded data removed]",
      "text/plain": [
       "<Figure size 576x432 with 1 Axes>"
      ]
     },
     "metadata": {},
     "output_type": "display_data"
    }
   ],
   "source": [
    "#data.info()\n",
    "# check if the data is imbalanced\n",
    "fig = plt.figure(figsize=(8,6))\n",
    "data2.groupby('tagged').text.count().plot.bar(ylim=0)\n",
    "plt.title('histogram of stances')\n",
    "plt.ylabel('count')\n",
    "plt.xlabel('vote')\n",
    "plt.show()"
   ]
  },
  {
   "cell_type": "code",
   "execution_count": 22,
   "metadata": {},
   "outputs": [],
   "source": [
    "X,y = data2['text'].values, data2['tagged'].values\n",
    "train_corpus, test_corpus, train_labels, test_labels = split_data(X,y,test_data_proportion=0.3)\n",
    " # normalization\n",
    "norm_train_corpus = text_preprocessing(train_corpus)\n",
    "norm_test_corpus = text_preprocessing(test_corpus)\n",
    "\n",
    "# bag of words\n",
    "bow_vectorizer, bow_train_features = bow_model(norm_train_corpus)\n",
    "bow_test_features = bow_vectorizer.transform(norm_test_corpus)\n",
    "\n",
    "# tfidf \n",
    "tfidf_vectorizer, tfidf_train_features = tfidf_model(norm_train_corpus)\n",
    "tfidf_test_features = tfidf_vectorizer.transform(norm_test_corpus)"
   ]
  },
  {
   "cell_type": "markdown",
   "metadata": {},
   "source": [
    "#### Logistic Regression model before handling imbalance data (not recommended)"
   ]
  },
  {
   "cell_type": "code",
   "execution_count": 25,
   "metadata": {},
   "outputs": [
    {
     "name": "stdout",
     "output_type": "stream",
     "text": [
      "logistic regression classifier using tfidf\n",
      "              precision    recall  f1-score   support\n",
      "\n",
      "           0       0.99      0.74      0.85     13589\n",
      "           1       0.12      0.77      0.21       640\n",
      "\n",
      "   micro avg       0.74      0.74      0.74     14229\n",
      "   macro avg       0.55      0.76      0.53     14229\n",
      "weighted avg       0.95      0.74      0.82     14229\n",
      "\n"
     ]
    }
   ],
   "source": [
    "from sklearn.linear_model import LogisticRegression\n",
    "lr = LogisticRegression(class_weight='balanced')\n",
    "# logistic regression classifier using tfidf\n",
    "print(\"logistic regression classifier using tfidf\")\n",
    "lr_tfidf_predictions = train_predict_evaluate_model(classifier=lr,\n",
    "                                                    train_features=tfidf_train_features,\n",
    "                                                    train_labels=train_labels,\n",
    "                                                    test_features=tfidf_test_features,\n",
    "                                                    test_labels=test_labels)"
   ]
  },
  {
   "cell_type": "markdown",
   "metadata": {},
   "source": [
    "#### random forest model before handling imbalance data (not recommended)"
   ]
  },
  {
   "cell_type": "code",
   "execution_count": 26,
   "metadata": {},
   "outputs": [
    {
     "name": "stdout",
     "output_type": "stream",
     "text": [
      "random forest classifier using tfidf\n",
      "              precision    recall  f1-score   support\n",
      "\n",
      "           0       0.96      0.97      0.96     13589\n",
      "           1       0.19      0.15      0.16       640\n",
      "\n",
      "   micro avg       0.93      0.93      0.93     14229\n",
      "   macro avg       0.57      0.56      0.56     14229\n",
      "weighted avg       0.93      0.93      0.93     14229\n",
      "\n"
     ]
    }
   ],
   "source": [
    "from sklearn.ensemble import RandomForestClassifier\n",
    "rfc = RandomForestClassifier(n_estimators=100,class_weight='balanced')\n",
    "# random forest classifier using tfidf\n",
    "print(\"random forest classifier using tfidf\")\n",
    "rfc_tfidf_predictions = train_predict_evaluate_model(classifier=rfc,\n",
    "                                                     train_features=tfidf_train_features,\n",
    "                                                     train_labels=train_labels,\n",
    "                                                     test_features=tfidf_test_features,\n",
    "                                                     test_labels=test_labels)"
   ]
  },
  {
   "cell_type": "markdown",
   "metadata": {},
   "source": [
    "**finding:**  the difference between the f1 score for each category is so large"
   ]
  },
  {
   "cell_type": "markdown",
   "metadata": {},
   "source": [
    "## 1. Handling Imbalance Data "
   ]
  },
  {
   "cell_type": "markdown",
   "metadata": {},
   "source": [
    "### 1.1 balanced ensemble method (balanced random forest)"
   ]
  },
  {
   "cell_type": "markdown",
   "metadata": {},
   "source": [
    "* draw a bootstrap sample from the minority class and draw a bootstrap sample form the majority class with the same size of the minority sample"
   ]
  },
  {
   "cell_type": "markdown",
   "metadata": {},
   "source": [
    "* induce a classification tree to maximize size without pruning. the tree is induced with CART algorithm with the modification of only searching through a set of m randomly selected variables instead of searching through all variables to find the optimal split"
   ]
  },
  {
   "cell_type": "markdown",
   "metadata": {},
   "source": [
    "* repeat 2 steps above, aggregate the predictions of the emsemble above and get the final prediction"
   ]
  },
  {
   "cell_type": "markdown",
   "metadata": {},
   "source": [
    "* reference: https://imbalanced-learn.org/en/stable/generated/imblearn.ensemble.BalancedRandomForestClassifier.html"
   ]
  },
  {
   "cell_type": "code",
   "execution_count": 29,
   "metadata": {},
   "outputs": [],
   "source": [
    "# ! pip install -U imbalanced-learn"
   ]
  },
  {
   "cell_type": "code",
   "execution_count": 30,
   "metadata": {},
   "outputs": [
    {
     "ename": "ModuleNotFoundError",
     "evalue": "No module named 'imblearn'",
     "output_type": "error",
     "traceback": [
      "\u001b[0;31m---------------------------------------------------------------------------\u001b[0m",
      "\u001b[0;31mModuleNotFoundError\u001b[0m                       Traceback (most recent call last)",
      "\u001b[0;32m<ipython-input-30-9c1f7518c75c>\u001b[0m in \u001b[0;36m<module>\u001b[0;34m()\u001b[0m\n\u001b[0;32m----> 1\u001b[0;31m \u001b[0;32mfrom\u001b[0m \u001b[0mimblearn\u001b[0m\u001b[0;34m.\u001b[0m\u001b[0mensemble\u001b[0m \u001b[0;32mimport\u001b[0m \u001b[0mBalancedRandomForestClassifier\u001b[0m\u001b[0;34m\u001b[0m\u001b[0m\n\u001b[0m\u001b[1;32m      2\u001b[0m \u001b[0mbrf\u001b[0m \u001b[0;34m=\u001b[0m \u001b[0mBalancedRandomForestClassifier\u001b[0m\u001b[0;34m(\u001b[0m\u001b[0mn_estimators\u001b[0m\u001b[0;34m=\u001b[0m\u001b[0;36m100\u001b[0m\u001b[0;34m)\u001b[0m\u001b[0;34m\u001b[0m\u001b[0m\n",
      "\u001b[0;31mModuleNotFoundError\u001b[0m: No module named 'imblearn'"
     ]
    }
   ],
   "source": [
    "from imblearn.ensemble import BalancedRandomForestClassifier\n",
    "brf = BalancedRandomForestClassifier(n_estimators=100)"
   ]
  },
  {
   "cell_type": "code",
   "execution_count": 117,
   "metadata": {},
   "outputs": [
    {
     "name": "stdout",
     "output_type": "stream",
     "text": [
      "balanced random forest classifier using tfidf\n",
      "              precision    recall  f1-score   support\n",
      "\n",
      "           0       0.63      0.82      0.71       133\n",
      "           1       0.95      0.87      0.91       491\n",
      "\n",
      "   micro avg       0.86      0.86      0.86       624\n",
      "   macro avg       0.79      0.84      0.81       624\n",
      "weighted avg       0.88      0.86      0.86       624\n",
      "\n"
     ]
    }
   ],
   "source": [
    "# balanced random forest classifier using tfidf\n",
    "print(\"balanced random forest classifier using tfidf\")\n",
    "rfc_tfidf_predictions = train_predict_evaluate_model(classifier=brf,\n",
    "                                                     train_features=tfidf_train_features,\n",
    "                                                     train_labels=train_labels,\n",
    "                                                     test_features=tfidf_test_features,\n",
    "                                                     test_labels=test_labels)"
   ]
  },
  {
   "cell_type": "markdown",
   "metadata": {},
   "source": [
    "**finding:** metrics are all improved significantly with balanced random forest"
   ]
  },
  {
   "cell_type": "markdown",
   "metadata": {},
   "source": [
    "### 1.2 weighted ensemble method (weighted random forest)"
   ]
  },
  {
   "cell_type": "markdown",
   "metadata": {},
   "source": [
    "* place a penalty on misclassifying the minority class. we assign a weight to each class, for the minority class we give a larger weight (i.e. higher classification cost)"
   ]
  },
  {
   "cell_type": "markdown",
   "metadata": {},
   "source": [
    "* The class weights are incorporated into the RF algorithm in two places. In the tree induction procedure, class weights are used to weight the Gini criterion for finding splits. In the terminal nodes of each tree, class weights are again taken into consideration. The class prediction of each terminal node is determined by “weighted majority vote”; i.e., the weighted vote of a class is the weight for that class times the number of cases for that class at the terminal node. "
   ]
  },
  {
   "cell_type": "markdown",
   "metadata": {},
   "source": [
    "* The final class prediction for RF is then determined by aggregatting the weighted vote from each individual tree, where the weights are average weights in the terminal nodes. Class weights are an essential tuning parameter to achieve desired performance. The out-of-bag estimate of the accuracy from RF can be used to select weights. This method, Weighted Random Forest (WRF), is incorporated in the present version of the software."
   ]
  },
  {
   "cell_type": "code",
   "execution_count": 120,
   "metadata": {},
   "outputs": [],
   "source": [
    "#The \"balanced\" mode uses the values of y to automatically adjust\n",
    "#weights inversely proportional to class frequencies in the input data as \n",
    "#``n_samples / (n_classes * np.bincount(y))``\n",
    "#ref: \n",
    "wrf_rf = RandomForestClassifier(n_estimators=100,class_weight='balanced')\n",
    "wrf_brf = BalancedRandomForestClassifier(n_estimators=100,class_weight='balanced')"
   ]
  },
  {
   "cell_type": "code",
   "execution_count": null,
   "metadata": {},
   "outputs": [],
   "source": [
    "# weighted random forest classifier using tfidf\n",
    "print(\"weighted random forest classifier using tfidf\")\n",
    "rfc_tfidf_predictions = train_predict_evaluate_model(classifier=wrf_rf,\n",
    "                                                     train_features=tfidf_train_features,\n",
    "                                                     train_labels=train_labels,\n",
    "                                                     test_features=tfidf_test_features,\n",
    "                                                     test_labels=test_labels)"
   ]
  },
  {
   "cell_type": "code",
   "execution_count": 122,
   "metadata": {},
   "outputs": [
    {
     "name": "stdout",
     "output_type": "stream",
     "text": [
      "weighted balanced random forest classifier using tfidf\n",
      "              precision    recall  f1-score   support\n",
      "\n",
      "           0       0.51      0.80      0.62       133\n",
      "           1       0.94      0.79      0.86       491\n",
      "\n",
      "   micro avg       0.79      0.79      0.79       624\n",
      "   macro avg       0.72      0.80      0.74       624\n",
      "weighted avg       0.85      0.79      0.81       624\n",
      "\n"
     ]
    }
   ],
   "source": [
    "# weighted balanced random forest classifier using tfidf\n",
    "print(\"weighted balanced random forest classifier using tfidf\")\n",
    "rfc_tfidf_predictions = train_predict_evaluate_model(classifier=wrf_brf,\n",
    "                                                     train_features=tfidf_train_features,\n",
    "                                                     train_labels=train_labels,\n",
    "                                                     test_features=tfidf_test_features,\n",
    "                                                     test_labels=test_labels)"
   ]
  },
  {
   "cell_type": "markdown",
   "metadata": {},
   "source": [
    "**findings:** the performance of the balanced ensemble method is better than the weighted method"
   ]
  },
  {
   "cell_type": "markdown",
   "metadata": {},
   "source": [
    "## 2. Grid Search"
   ]
  },
  {
   "cell_type": "markdown",
   "metadata": {},
   "source": [
    "### 2.1 grid search for text preprocessing (bow & tfidf) and models"
   ]
  },
  {
   "cell_type": "code",
   "execution_count": 29,
   "metadata": {},
   "outputs": [
    {
     "name": "stdout",
     "output_type": "stream",
     "text": [
      "Performing grid search...\n",
      "pipeline: ['tfidf', 'clf']\n",
      "parameters:\n",
      "{'clf__class_weight': (None, 'balanced'),\n",
      " 'tfidf__max_df': (0.8, 0.9),\n",
      " 'tfidf__min_df': (0.1, 0.2),\n",
      " 'tfidf__ngram_range': ((1, 1), (1, 2))}\n",
      "Fitting 5 folds for each of 16 candidates, totalling 80 fits\n"
     ]
    },
    {
     "name": "stderr",
     "output_type": "stream",
     "text": [
      "[Parallel(n_jobs=-1)]: Using backend SequentialBackend with 1 concurrent workers.\n",
      "[Parallel(n_jobs=-1)]: Done  80 out of  80 | elapsed:  3.6min finished\n"
     ]
    },
    {
     "name": "stdout",
     "output_type": "stream",
     "text": [
      "done in 219.328s\n",
      "\n",
      "Best score: 0.858\n",
      "Best parameters set:\n",
      "\tclf__class_weight: None\n",
      "\ttfidf__max_df: 0.9\n",
      "\ttfidf__min_df: 0.1\n",
      "\ttfidf__ngram_range: (1, 1)\n"
     ]
    }
   ],
   "source": [
    "from __future__ import print_function\n",
    "\n",
    "from pprint import pprint\n",
    "from time import time\n",
    "import logging\n",
    "\n",
    "from sklearn.feature_extraction.text import CountVectorizer\n",
    "from sklearn.feature_extraction.text import TfidfTransformer\n",
    "from sklearn.ensemble import RandomForestClassifier\n",
    "from imblearn.ensemble import BalancedRandomForestClassifier\n",
    "from sklearn.model_selection import GridSearchCV\n",
    "from sklearn.pipeline import Pipeline\n",
    "\n",
    "#print(__doc__)\n",
    "# Display progress logs on stdout\n",
    "#logging.basicConfig(level=logging.INFO,format='%(asctime)s %(levelname)s %(message)s')\n",
    "# Define a pipeline combining a text feature extractor with a simple classifier\n",
    "rfc = RandomForestClassifier()\n",
    "brf = BalancedRandomForestClassifier()\n",
    "pipeline = Pipeline([('tfidf', TfidfVectorizer()),('clf', brf)])\n",
    "\n",
    "# uncommenting more parameters will give better exploring power but will\n",
    "# increase processing time in a combinatorial way\n",
    "parameters = {'tfidf__max_df': (0.7,0.8, 0.9),\n",
    "              'tfidf__min_df': (0.1, 0.2,0.3),\n",
    "              #'tfidf__max_features': (5000, 10000),\n",
    "              'tfidf__ngram_range': ((1,1),(1, 2)),  # unigrams or bigrams\n",
    "              'clf__n_estimators': (100,150),\n",
    "              'clf__max_depth': (10,30,50),\n",
    "              'clf__class_weight': (None, 'balanced')}\n",
    "\n",
    "if __name__ == \"__main__\":\n",
    "    # multiprocessing requires the fork to happen in a __main__ protected block\n",
    "    # find the best parameters for both the feature extraction and the classifier\n",
    "    grid_search = GridSearchCV(pipeline, parameters, cv=5, n_jobs=-1, verbose=1)\n",
    "\n",
    "    print(\"Performing grid search...\")\n",
    "    print(\"pipeline:\", [name for name, _ in pipeline.steps])\n",
    "    print(\"parameters:\")\n",
    "    pprint(parameters)\n",
    "    t0 = time()\n",
    "    grid_search.fit(norm_train_corpus, train_labels)\n",
    "    print(\"done in %0.3fs\" % (time() - t0))\n",
    "    print()\n",
    "\n",
    "    print(\"Best score: %0.3f\" % grid_search.best_score_)\n",
    "    print(\"Best parameters set:\")\n",
    "    best_parameters = grid_search.best_estimator_.get_params()\n",
    "    for param_name in sorted(parameters.keys()):\n",
    "        print(\"\\t%s: %r\" % (param_name, best_parameters[param_name]))"
   ]
  }
 ],
 "metadata": {
  "kernelspec": {
   "display_name": "Python 3",
   "language": "python",
   "name": "python3"
  },
  "language_info": {
   "codemirror_mode": {
    "name": "ipython",
    "version": 3
   },
   "file_extension": ".py",
   "mimetype": "text/x-python",
   "name": "python",
   "nbconvert_exporter": "python",
   "pygments_lexer": "ipython3",
   "version": "3.6.5"
  }
 },
 "nbformat": 4,
 "nbformat_minor": 2
}
