{
 "cells": [
  {
   "cell_type": "markdown",
   "metadata": {},
   "source": [
    "# Contents\n",
    "\n",
    "\n",
    "**1. Load data and check data**\n",
    "\n",
    "**2. Text Preprocessing**\n",
    "\n",
    "**3. Data Relabelling Algorithm**\n",
    "\n",
    "**4. Cutoff Analysis for speeches length**"
   ]
  },
  {
   "cell_type": "code",
   "execution_count": 35,
   "metadata": {},
   "outputs": [],
   "source": [
    "import pandas as pd\n",
    "import operator\n",
    "from __future__ import print_function\n",
    "import csv\n",
    "import numpy as np\n",
    "import pickle\n",
    "import string\n",
    "import re\n",
    "import numpy as np\n",
    "import scipy\n",
    "import os\n",
    "import collections\n",
    "from tqdm import tqdm_notebook as tqdm\n",
    "import warnings\n",
    "warnings.filterwarnings('ignore')\n",
    "\n",
    "#sklearn\n",
    "from sklearn.model_selection import train_test_split\n",
    "\n",
    "#nltk for nlp\n",
    "from nltk import word_tokenize\n",
    "from nltk.corpus import stopwords\n",
    "from nltk.stem.wordnet import WordNetLemmatizer\n",
    "\n",
    "#relabel model\n",
    "#from relabel_model import RuleBasedStanceDetection\n",
    "\n",
    "#plot\n",
    "import matplotlib.pyplot as plt\n",
    "import seaborn as sns\n",
    "import warnings\n",
    "warnings.filterwarnings('ignore')\n",
    "%matplotlib inline\n",
    "plt.style.use('ggplot')"
   ]
  },
  {
   "cell_type": "markdown",
   "metadata": {},
   "source": [
    "### 1. Load data and check data"
   ]
  },
  {
   "cell_type": "markdown",
   "metadata": {},
   "source": [
    "**1.1 load data**"
   ]
  },
  {
   "cell_type": "code",
   "execution_count": 26,
   "metadata": {},
   "outputs": [],
   "source": [
    "def read_data(data_path):\n",
    "    '''\n",
    "    read csv file\n",
    "    input: your csv file location \n",
    "    output: DataFrame\n",
    "    '''\n",
    "    data = pd.read_csv(data_path,index_col=0)\n",
    "    return data"
   ]
  },
  {
   "cell_type": "code",
   "execution_count": 27,
   "metadata": {},
   "outputs": [
    {
     "data": {
      "text/html": [
       "<div>\n",
       "<style scoped>\n",
       "    .dataframe tbody tr th:only-of-type {\n",
       "        vertical-align: middle;\n",
       "    }\n",
       "\n",
       "    .dataframe tbody tr th {\n",
       "        vertical-align: top;\n",
       "    }\n",
       "\n",
       "    .dataframe thead th {\n",
       "        text-align: right;\n",
       "    }\n",
       "</style>\n",
       "<table border=\"1\" class=\"dataframe\">\n",
       "  <thead>\n",
       "    <tr style=\"text-align: right;\">\n",
       "      <th></th>\n",
       "      <th>support</th>\n",
       "      <th>text</th>\n",
       "      <th>volume_no</th>\n",
       "      <th>issue_no</th>\n",
       "      <th>page_range</th>\n",
       "      <th>person_id</th>\n",
       "      <th>full_name</th>\n",
       "      <th>party</th>\n",
       "      <th>chamber</th>\n",
       "      <th>title</th>\n",
       "      <th>tagged</th>\n",
       "    </tr>\n",
       "  </thead>\n",
       "  <tbody>\n",
       "    <tr>\n",
       "      <th>0</th>\n",
       "      <td>1</td>\n",
       "      <td>Mr. GRAYSON . Mr. Speaker, these statements an...</td>\n",
       "      <td>159</td>\n",
       "      <td>42</td>\n",
       "      <td>E357-E358</td>\n",
       "      <td>29284</td>\n",
       "      <td>Alan-nan-Grayson</td>\n",
       "      <td>D</td>\n",
       "      <td>H</td>\n",
       "      <td>Catching Up to 1968 Act of 2013</td>\n",
       "      <td>1</td>\n",
       "    </tr>\n",
       "    <tr>\n",
       "      <th>1</th>\n",
       "      <td>1</td>\n",
       "      <td>Ms. GABBARD . Mr. Speaker, I rise today in str...</td>\n",
       "      <td>159</td>\n",
       "      <td>42</td>\n",
       "      <td>E362</td>\n",
       "      <td>46246</td>\n",
       "      <td>Tulsi-nan-Gabbard</td>\n",
       "      <td>D</td>\n",
       "      <td>H</td>\n",
       "      <td>Helping Heroes Fly Act</td>\n",
       "      <td>1</td>\n",
       "    </tr>\n",
       "    <tr>\n",
       "      <th>2</th>\n",
       "      <td>1</td>\n",
       "      <td>Mr. FALEOMAVAEGA . Mr. Speaker, I want to shar...</td>\n",
       "      <td>159</td>\n",
       "      <td>42</td>\n",
       "      <td>E363-E364</td>\n",
       "      <td>19</td>\n",
       "      <td>Eni-F.H.-Faleomavaega</td>\n",
       "      <td>D</td>\n",
       "      <td>H</td>\n",
       "      <td>Non-Disparagement of Native American Persons o...</td>\n",
       "      <td>1</td>\n",
       "    </tr>\n",
       "    <tr>\n",
       "      <th>3</th>\n",
       "      <td>-1</td>\n",
       "      <td>Mr. COHEN . Mr. Speaker, I rise today to share...</td>\n",
       "      <td>159</td>\n",
       "      <td>39</td>\n",
       "      <td>H1559</td>\n",
       "      <td>1762</td>\n",
       "      <td>Steve-nan-Cohen</td>\n",
       "      <td>D</td>\n",
       "      <td>H</td>\n",
       "      <td>Northern Route Approval Act</td>\n",
       "      <td>1</td>\n",
       "    </tr>\n",
       "    <tr>\n",
       "      <th>4</th>\n",
       "      <td>1</td>\n",
       "      <td>Ms. JACKSON LEE . Mr. Speaker, in a few weeks,...</td>\n",
       "      <td>159</td>\n",
       "      <td>42</td>\n",
       "      <td>H1725</td>\n",
       "      <td>475</td>\n",
       "      <td>Sheila-nan-Jackson Lee</td>\n",
       "      <td>D</td>\n",
       "      <td>H</td>\n",
       "      <td>Child Gun Safety and Gun Access Prevention Act</td>\n",
       "      <td>1</td>\n",
       "    </tr>\n",
       "  </tbody>\n",
       "</table>\n",
       "</div>"
      ],
      "text/plain": [
       "   support                                               text  volume_no  \\\n",
       "0        1  Mr. GRAYSON . Mr. Speaker, these statements an...        159   \n",
       "1        1  Ms. GABBARD . Mr. Speaker, I rise today in str...        159   \n",
       "2        1  Mr. FALEOMAVAEGA . Mr. Speaker, I want to shar...        159   \n",
       "3       -1  Mr. COHEN . Mr. Speaker, I rise today to share...        159   \n",
       "4        1  Ms. JACKSON LEE . Mr. Speaker, in a few weeks,...        159   \n",
       "\n",
       "  issue_no page_range  person_id               full_name party chamber  \\\n",
       "0       42  E357-E358      29284        Alan-nan-Grayson     D       H   \n",
       "1       42       E362      46246       Tulsi-nan-Gabbard     D       H   \n",
       "2       42  E363-E364         19   Eni-F.H.-Faleomavaega     D       H   \n",
       "3       39      H1559       1762         Steve-nan-Cohen     D       H   \n",
       "4       42      H1725        475  Sheila-nan-Jackson Lee     D       H   \n",
       "\n",
       "                                               title  tagged  \n",
       "0                    Catching Up to 1968 Act of 2013       1  \n",
       "1                             Helping Heroes Fly Act       1  \n",
       "2  Non-Disparagement of Native American Persons o...       1  \n",
       "3                        Northern Route Approval Act       1  \n",
       "4     Child Gun Safety and Gun Access Prevention Act       1  "
      ]
     },
     "execution_count": 27,
     "metadata": {},
     "output_type": "execute_result"
    }
   ],
   "source": [
    "data = read_data('../data/cleaned_data/data.csv')\n",
    "data.head()"
   ]
  },
  {
   "cell_type": "markdown",
   "metadata": {},
   "source": [
    "**1.2 check data**"
   ]
  },
  {
   "cell_type": "code",
   "execution_count": 28,
   "metadata": {},
   "outputs": [
    {
     "data": {
      "text/plain": [
       "-1    45351\n",
       " 1     2077\n",
       "Name: tagged, dtype: int64"
      ]
     },
     "execution_count": 28,
     "metadata": {},
     "output_type": "execute_result"
    }
   ],
   "source": [
    "# define X, y to be the speeches and the speech label(if it has stance)\n",
    "X, y = data['text'],data['tagged']\n",
    "# check data before relabelling\n",
    "y.value_counts()"
   ]
  },
  {
   "cell_type": "code",
   "execution_count": 29,
   "metadata": {},
   "outputs": [],
   "source": [
    "def save_jpeg(path,name):\n",
    "    fn = '%s.jpeg'%name\n",
    "    plt.savefig(os.path.join(path,fn))"
   ]
  },
  {
   "cell_type": "code",
   "execution_count": 30,
   "metadata": {},
   "outputs": [
    {
     "data": {
      "image/png": "[encoded data removed]",
      "text/plain": [
       "<Figure size 432x288 with 1 Axes>"
      ]
     },
     "metadata": {},
     "output_type": "display_data"
    }
   ],
   "source": [
    "y1 = y.copy()\n",
    "y1.replace({-1:'no stance',1:'have stance'},inplace=True)\n",
    "y1.value_counts().plot.bar(rot=0)\n",
    "plt.title('data distribution for stance detection before relabelling')\n",
    "save_jpeg('../graphs','data distribution before relabelling')"
   ]
  },
  {
   "cell_type": "markdown",
   "metadata": {},
   "source": [
    "**findings:** the data is extremely imbalanced"
   ]
  },
  {
   "cell_type": "markdown",
   "metadata": {},
   "source": [
    "## 2. Test Preprocessing"
   ]
  },
  {
   "cell_type": "markdown",
   "metadata": {},
   "source": [
    "** 2.1 regular text preprocessing**"
   ]
  },
  {
   "cell_type": "code",
   "execution_count": null,
   "metadata": {},
   "outputs": [],
   "source": [
    "def tokenize_text(text):\n",
    "    '''\n",
    "    tokenization\n",
    "    '''\n",
    "    tokens = word_tokenize(text.lower())\n",
    "    tokens = [token.strip() for token in tokens]\n",
    "    return tokens\n",
    "\n",
    "def remove_stopwords(text):\n",
    "    '''\n",
    "    remove stop words\n",
    "    '''\n",
    "    stop = list(set(stopwords.words('english')))\n",
    "    tokens = tokenize_text(text)\n",
    "    filtered_tokens = [token for token in tokens if token not in stop]\n",
    "    filtered_text = ' '.join(filtered_tokens)\n",
    "    return filtered_text\n",
    "\n",
    "def remove_special_characters(text):\n",
    "    '''\n",
    "    remove special characters: '!\"#$%&\\'()*+,-./:;<=>?@[\\\\]^_`{|}~'\n",
    "    '''\n",
    "    tokens = tokenize_text(text)\n",
    "    pattern = re.compile('[{}]'.format(re.escape(string.punctuation)))\n",
    "    filtered_tokens = filter(None, [pattern.sub('', token) for token in tokens])\n",
    "    filtered_text = ' '.join(filtered_tokens)\n",
    "    return filtered_text\n",
    "\n",
    "def remove_non_alphabetic_characters(text):\n",
    "    '''\n",
    "    remove non-alphabetic characters and numbers\n",
    "    '''\n",
    "    tokens = tokenize_text(text)\n",
    "    tokens = [w for w in tokens if w.isalpha()]\n",
    "    return ' '.join(tokens)\n",
    "\n",
    "def remove_tokens_with_length(text,length):\n",
    "    '''\n",
    "    remove tokens with length less than or equal the input length\n",
    "    '''\n",
    "    tokens = tokenize_text(text)\n",
    "    tokens = [w for w in tokens if len(w)>length]\n",
    "    return ' '.join(tokens)\n",
    "    \n",
    "def text_preprocessing(corpus):\n",
    "    '''\n",
    "    preprocess \n",
    "    '''\n",
    "    new_corpus = []\n",
    "    for text in tqdm(corpus):\n",
    "        text = remove_special_characters(text)\n",
    "        text = remove_stopwords(text)\n",
    "        #text = remove_non_alphabetic_characters(text)\n",
    "        #text = remove_tokens_with_length(text,1)\n",
    "        new_corpus.append(text)\n",
    "    return new_corpus\n",
    "\n",
    "def relabel_data(data):\n",
    "    sd = RuleBasedStanceDetection()\n",
    "    X,y = data['text'].values, data['tagged'].values\n",
    "    X = text_preprocessing(X)\n",
    "    for i in tqdm(range(len(X))):\n",
    "        if y[i] == -1:\n",
    "            y[i] = sd.stance_detection_labeler(X[i])\n",
    "    return X,y\n",
    "\n",
    "def split(data):\n",
    "    X,y = relabel_data(data)\n",
    "    train_corpus, test_corpus, train_labels, test_labels = train_test_split(X,y,test_size=0.3)\n",
    "    return train_corpus, test_corpus, train_labels, test_labels"
   ]
  },
  {
   "cell_type": "markdown",
   "metadata": {},
   "source": [
    "### 3. Data Relabelling Algorithm"
   ]
  },
  {
   "cell_type": "markdown",
   "metadata": {},
   "source": [
    "the result of using upsampling method to balance data is not good; \n",
    "\n",
    "then when checking the text manually, it's obviously that the labeler doesn't label all data that should be labelled as 'tagged'\n",
    "\n",
    "so this is the regular expression solution to relabel data"
   ]
  },
  {
   "cell_type": "markdown",
   "metadata": {},
   "source": [
    "**3.1 data relabelling algorithm**"
   ]
  },
  {
   "cell_type": "code",
   "execution_count": 115,
   "metadata": {},
   "outputs": [],
   "source": [
    "# relabelling class using regular expression\n",
    "class RuleBasedStanceDetection(object):\n",
    "    def __init__(self):\n",
    "        self.positive_detector = re.compile('support')\n",
    "        self.negative_detector = re.compile('opposition|oppose')\n",
    "        self.confused_detector = re.compile('passed|introduce|introduction|rise|will vote')\n",
    "        self.contain_bill = re.compile('H[0-9]{4}|H.R.|[A,a]ct')\n",
    "        self.pn_count = []\n",
    "\n",
    "    def stance_detector(self, speech, pn_ratio=1, cutoff=None):\n",
    "        \"\"\"\n",
    "        predict by the count of positive/negative keyword\n",
    "        Args:\n",
    "            speech(str): the speech\n",
    "            pn_ratio(int,float): the parameter to control the weight of negative keywords\n",
    "            when both positive and negative keywords appear in the speech\n",
    "            cutoff(int): the cutoff point of the speech, only detect the keyword before cutoff\n",
    "        Returns:\n",
    "            int: -1(negative),1(positive),0(not detected),2(confused),3(contain bill)\n",
    "        \"\"\"\n",
    "        if cutoff:\n",
    "            speech = speech[:cutoff]\n",
    "        if self.positive_detector.search(speech):\n",
    "            positive_count = len(self.positive_detector.findall(speech))\n",
    "        else:\n",
    "            positive_count = 0\n",
    "        if self.negative_detector.search(speech):\n",
    "            negative_count = len(self.negative_detector.findall(speech))\n",
    "        else:\n",
    "            negative_count = 0\n",
    "        if positive_count == 0 and negative_count == 0:\n",
    "            if self.confused_detector.search(speech):\n",
    "                return 2\n",
    "            if self.contain_bill.search(speech):\n",
    "                return 3\n",
    "            return 0\n",
    "        else:\n",
    "            self.pn_count.append([positive_count, negative_count])\n",
    "            # print(positive_count, negative_count)\n",
    "            if positive_count > pn_ratio * negative_count:\n",
    "                return 1\n",
    "            else:\n",
    "                return -1\n",
    "\n",
    "    def stance_detection_labeler(self, speech, strict=True, pn_ratio=1, cutoff=None):\n",
    "        stance = self.stance_detector(speech, pn_ratio, cutoff)\n",
    "        if strict:  # only relabel when certain\n",
    "            if stance == 1 or stance == -1:\n",
    "                return 1\n",
    "            else:\n",
    "                return -1\n",
    "        else:  # relabel when possible\n",
    "            if stance != 0:\n",
    "                return 1\n",
    "            else:\n",
    "                return -1\n",
    "\n",
    "    def stance_classification_labeler(self, speech, pn_ratio=1, cutoff=None):\n",
    "        stance = self.stance_detector(speech, pn_ratio, cutoff)\n",
    "        if stance == 1 or stance == -1:\n",
    "            return stance\n",
    "        else:\n",
    "            return 0"
   ]
  },
  {
   "cell_type": "code",
   "execution_count": 97,
   "metadata": {},
   "outputs": [
    {
     "data": {
      "application/vnd.jupyter.widget-view+json": {
       "model_id": "e1f7ceb8a2fc4d4b91f71671a9796469",
       "version_major": 2,
       "version_minor": 0
      },
      "text/plain": [
       "HBox(children=(IntProgress(value=0, max=47428), HTML(value='')))"
      ]
     },
     "metadata": {},
     "output_type": "display_data"
    },
    {
     "name": "stdout",
     "output_type": "stream",
     "text": [
      "\n"
     ]
    },
    {
     "data": {
      "application/vnd.jupyter.widget-view+json": {
       "model_id": "fe8ec6dd2f2745a7ae70d4136f83610a",
       "version_major": 2,
       "version_minor": 0
      },
      "text/plain": [
       "HBox(children=(IntProgress(value=0, max=47428), HTML(value='')))"
      ]
     },
     "metadata": {},
     "output_type": "display_data"
    },
    {
     "name": "stdout",
     "output_type": "stream",
     "text": [
      "\n"
     ]
    }
   ],
   "source": [
    "train_corpus, test_corpus, train_labels, test_labels = split(data)"
   ]
  },
  {
   "cell_type": "markdown",
   "metadata": {},
   "source": [
    "**3.2 data distribution after relabelling**"
   ]
  },
  {
   "cell_type": "code",
   "execution_count": 112,
   "metadata": {},
   "outputs": [
    {
     "data": {
      "image/png": "[encoded data removed]",
      "text/plain": [
       "<Figure size 432x288 with 1 Axes>"
      ]
     },
     "metadata": {},
     "output_type": "display_data"
    }
   ],
   "source": [
    "# data distribution after relabelling\n",
    "stack1 = list(train_labels)\n",
    "stack2 = list(test_labels)\n",
    "stack = stack1 + stack2\n",
    "labels = pd.DataFrame(stack)\n",
    "labels.columns = ['label']\n",
    "labels['label'].replace({-1:'no stance',1:'have stance'},inplace=True)\n",
    "labels['label'].value_counts().plot.bar(rot=0)\n",
    "plt.title('data distribution for stance detection after relabelling')\n",
    "save_jpeg('../graphs','data distribution after relabelling')"
   ]
  },
  {
   "cell_type": "markdown",
   "metadata": {},
   "source": [
    "### 4. Cutoff Analysis for speeches length"
   ]
  },
  {
   "cell_type": "markdown",
   "metadata": {},
   "source": [
    "* check speech length distribution here"
   ]
  },
  {
   "cell_type": "code",
   "execution_count": 113,
   "metadata": {},
   "outputs": [],
   "source": [
    "def cut_off_analysis_of_speech_length(min_cutoff,max_cutoff,train_corpus,test_corpus):\n",
    "    '''\n",
    "    divide speeches into 3 groups: \n",
    "    1. speeches whose length is less than or equals min_cutoff\n",
    "    2. speeches whose length is more than max_cutoff\n",
    "    3. speeches whose length is between the min_cutoff and the max_cutoff'''\n",
    "    corpus =  train_corpus + test_corpus\n",
    "    #length of short speeches, long speeches and speeches with normal length\n",
    "    short_sentences = []\n",
    "    long_sentences = []\n",
    "    normal_sentences = []\n",
    "    length = []\n",
    "    #index of short and long sentences\n",
    "    index_short_sentences = []\n",
    "    index_long_sentences = []\n",
    "\n",
    "    for i in tqdm(range(len(corpus))):\n",
    "        li = word_tokenize(corpus[i])\n",
    "        i_len = len(li)\n",
    "        if i_len<min_cutoff:\n",
    "            short_sentences.append(i_len)\n",
    "            index_short_sentences.append(i)\n",
    "        elif i_len>max_cutoff:\n",
    "            long_sentences.append(i_len)\n",
    "            index_long_sentences.append(i)\n",
    "        else:\n",
    "            normal_sentences.append(i_len)\n",
    "    all_speeches = short_sentences + long_sentences + normal_sentences\n",
    "    return all_speeches, normal_sentences, long_sentences, short_sentences, index_short_sentences, index_long_sentences"
   ]
  },
  {
   "cell_type": "markdown",
   "metadata": {},
   "source": [
    "**small experiment 1:**"
   ]
  },
  {
   "cell_type": "code",
   "execution_count": 114,
   "metadata": {},
   "outputs": [
    {
     "data": {
      "application/vnd.jupyter.widget-view+json": {
       "model_id": "0ca4d63bc0a64c47ac6edb1cb09643c6",
       "version_major": 2,
       "version_minor": 0
      },
      "text/plain": [
       "HBox(children=(IntProgress(value=0, max=47428), HTML(value='')))"
      ]
     },
     "metadata": {},
     "output_type": "display_data"
    },
    {
     "name": "stdout",
     "output_type": "stream",
     "text": [
      "\n"
     ]
    }
   ],
   "source": [
    "all_speeches_len, normal_s_len, long_s_len, short_s_len, idx_short_s, idx_long_s = cut_off_analysis_of_speech_length(5,1000,train_corpus,test_corpus)"
   ]
  },
  {
   "cell_type": "code",
   "execution_count": 116,
   "metadata": {},
   "outputs": [
    {
     "data": {
      "image/png": "[encoded data removed]",
      "text/plain": [
       "<Figure size 432x288 with 1 Axes>"
      ]
     },
     "metadata": {},
     "output_type": "display_data"
    }
   ],
   "source": [
    "length = pd.Series(all_speeches_len)\n",
    "sns.distplot(length,axlabel='all speeches lengths distribution') \n",
    "save_jpeg('../graphs','all_speeches_length_distribution')"
   ]
  },
  {
   "cell_type": "code",
   "execution_count": 117,
   "metadata": {},
   "outputs": [
    {
     "data": {
      "image/png": "[encoded data removed]",
      "text/plain": [
       "<Figure size 432x288 with 1 Axes>"
      ]
     },
     "metadata": {},
     "output_type": "display_data"
    }
   ],
   "source": [
    "sns.distplot(normal_s_len,axlabel='normal speeches length distribution (5<length<1000)') \n",
    "save_jpeg('../graphs','speeches_with_normal_length_distribution (5<length<1000)')"
   ]
  },
  {
   "cell_type": "markdown",
   "metadata": {},
   "source": [
    "**small experiment 2:**"
   ]
  },
  {
   "cell_type": "code",
   "execution_count": 119,
   "metadata": {},
   "outputs": [
    {
     "data": {
      "application/vnd.jupyter.widget-view+json": {
       "model_id": "f35528f9db624c93a5e6cbe68b803d8f",
       "version_major": 2,
       "version_minor": 0
      },
      "text/plain": [
       "HBox(children=(IntProgress(value=0, max=47428), HTML(value='')))"
      ]
     },
     "metadata": {},
     "output_type": "display_data"
    },
    {
     "name": "stdout",
     "output_type": "stream",
     "text": [
      "\n"
     ]
    }
   ],
   "source": [
    "all_speeches_len2, normal_s_len2, long_s_len2, short_s_len2, idx_short_s2, idx_long_s2 = cut_off_analysis_of_speech_length(10,1000,train_corpus,test_corpus)"
   ]
  },
  {
   "cell_type": "code",
   "execution_count": 122,
   "metadata": {},
   "outputs": [
    {
     "data": {
      "text/plain": [
       "<matplotlib.axes._subplots.AxesSubplot at 0x1a204cb8d0>"
      ]
     },
     "execution_count": 122,
     "metadata": {},
     "output_type": "execute_result"
    },
    {
     "data": {
      "image/png": "[encoded data removed]",
      "text/plain": [
       "<Figure size 432x288 with 1 Axes>"
      ]
     },
     "metadata": {},
     "output_type": "display_data"
    }
   ],
   "source": [
    "sns.distplot(normal_s_len2,axlabel='normal speeches length distribution (10<length<1000)') \n",
    "#save_jpeg('../graphs','speeches_with_normal_length_distribution')"
   ]
  }
 ],
 "metadata": {
  "kernelspec": {
   "display_name": "Python 3",
   "language": "python",
   "name": "python3"
  },
  "language_info": {
   "codemirror_mode": {
    "name": "ipython",
    "version": 3
   },
   "file_extension": ".py",
   "mimetype": "text/x-python",
   "name": "python",
   "nbconvert_exporter": "python",
   "pygments_lexer": "ipython3",
   "version": "3.6.5"
  }
 },
 "nbformat": 4,
 "nbformat_minor": 2
}
